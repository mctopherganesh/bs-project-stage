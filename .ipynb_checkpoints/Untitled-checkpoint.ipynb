{
 "cells": [
  {
   "cell_type": "code",
   "execution_count": 4,
   "metadata": {},
   "outputs": [],
   "source": [
    "import psycopg2\n",
    "conn = psycopg2.connect('host=localhost dbname=bs_db user=postgres password=postgres')"
   ]
  },
  {
   "cell_type": "code",
   "execution_count": 5,
   "metadata": {},
   "outputs": [
    {
     "name": "stdout",
     "output_type": "stream",
     "text": [
      "<class 'list'>\n"
     ]
    }
   ],
   "source": [
    "cur = conn.cursor()\n",
    "cur.execute('select * from test_bs')\n",
    "test_list = cur.fetchall()\n",
    "print(type(test_list))"
   ]
  },
  {
   "cell_type": "code",
   "execution_count": 7,
   "metadata": {},
   "outputs": [],
   "source": [
    "import pandas as pd\n",
    "\n",
    "test_df = pd.DataFrame(test_list)\n",
    "test_df.rename({0 : 'id', 1 : 'datetime', 2 : 'bs_measure'}, axis=1, inplace=True)"
   ]
  },
  {
   "cell_type": "code",
   "execution_count": 38,
   "metadata": {},
   "outputs": [],
   "source": [
    "pd.set_option('display.max_rows', None)"
   ]
  },
  {
   "cell_type": "code",
   "execution_count": 39,
   "metadata": {},
   "outputs": [
    {
     "name": "stdout",
     "output_type": "stream",
     "text": [
      "      id             datetime bs_measure\n",
      "0      0  2020-05-04 21:24:00      456.0\n",
      "1      1  2020-05-05 14:12:00      215.0\n",
      "2      2  2020-05-05 12:27:00      206.0\n",
      "3      3  2020-05-05 09:17:00      223.0\n",
      "4      4  2020-05-05 17:02:00      285.0\n",
      "5      5  2020-05-05 23:37:00      343.0\n",
      "6      6  2020-05-06 03:05:00      302.0\n",
      "7      7  2020-05-06 11:04:00      209.0\n",
      "8      8  2020-05-06 12:54:00      245.0\n",
      "9      9  2020-05-06 03:27:00      214.0\n",
      "10    10  2020-05-06 17:02:00      227.0\n",
      "11    11  2020-05-06 07:29:00      222.0\n",
      "12    12  2020-05-06 19:29:00      222.0\n",
      "13    13  2020-05-06 20:21:00      151.0\n",
      "14    14  2020-05-06 23:00:00      286.0\n",
      "15    15  2020-05-07 00:47:00      284.0\n",
      "16    16  2020-05-07 06:26:00       66.0\n",
      "17    17  2020-05-07 08:39:00      362.0\n",
      "18    18  2020-05-07 08:41:00      347.0\n",
      "19    19  2020-05-07 08:43:00      338.0\n",
      "20    20  2020-05-07 11:28:00      340.0\n",
      "21    21  2020-05-07 14:57:00      320.0\n",
      "22    22  2020-05-07 18:40:00      235.0\n",
      "23    23  2020-05-07 20:59:00      294.0\n",
      "24    24  2020-05-07 22:40:00      338.0\n",
      "25    25  2020-05-08 09:58:00      302.0\n",
      "26    26  2020-05-08 12:21:00      348.0\n",
      "27    27  2020-05-08 14:00:00      319.0\n",
      "28    28  2020-05-08 18:40:00      306.0\n",
      "29    29  2020-05-08 21:27:00      273.0\n",
      "30    30  2020-05-09 19:13:00      326.0\n",
      "31    31  2020-05-09 02:02:00      326.0\n",
      "32    32  2020-05-09 09:42:00      227.0\n",
      "33    33  2020-05-09 13:53:00      154.0\n",
      "34    34  2020-05-09 17:21:00      164.0\n",
      "35    35  2020-05-09 22:38:00      123.0\n",
      "36    36  2020-05-10 02:32:00      191.0\n",
      "37    37  2020-05-10 10:41:00       69.0\n",
      "38    38  2020-05-10 13:25:00      181.0\n",
      "39    39  2020-05-10 19:20:00      155.0\n",
      "40    40  2020-05-10 20:56:00      139.0\n",
      "41    41  2020-05-10 21:45:00      174.0\n",
      "42    42  2020-05-11 02:36:00      212.0\n",
      "43    43  2020-05-11 05:57:00      296.0\n",
      "44    44  2020-05-11 08:45:00      162.0\n",
      "45    45  2020-05-11 12:25:00      114.0\n",
      "46    46  2020-05-11 18:13:00      107.0\n",
      "47    47  2020-05-11 19:13:00       93.0\n",
      "48    48  2020-05-11 21:02:00      184.0\n",
      "49    49  2020-05-12 00:49:00      160.0\n",
      "50    50  2020-05-12 00:49:00      162.0\n",
      "51    51  2020-05-12 03:46:00       60.0\n",
      "52    52  2020-05-12 09:27:00       84.0\n",
      "53    53  2020-05-12 12:22:00       90.0\n",
      "54    54  2020-05-12 17:52:00       85.0\n",
      "55    55  2020-05-12 20:41:00      138.0\n",
      "56    56  2020-05-13 00:40:00      170.0\n",
      "57    57  2020-05-13 04:07:00       65.0\n",
      "58    58  2020-05-13 09:12:00      165.0\n",
      "59    59  2020-05-13 13:08:00      161.0\n",
      "60    60  2020-05-13 14:31:00       65.0\n",
      "61    61  2020-05-13 16:06:00       66.0\n",
      "62    62  2020-05-13 17:33:00      125.0\n",
      "63    63  2020-05-13 19:47:00      174.0\n",
      "64    64  2020-05-13 22:13:00      263.0\n",
      "65    65  2020-05-14 00:01:00      235.0\n",
      "66    66  2020-05-14 02:10:00      118.0\n",
      "67    67  2020-05-14 05:50:00      118.0\n",
      "68    68  2020-05-14 10:07:00       95.0\n",
      "69    69  2020-05-14 15:02:00      139.0\n",
      "70    70  2020-05-14 20:24:00      127.0\n",
      "71    71  0033-05-14 23:26:00      218.0\n",
      "72    72  2020-05-15 01:51:00      190.0\n",
      "73    73  2020-05-15 03:15:00      163.0\n",
      "74    74  2020-05-15 13:39:00       98.0\n",
      "75    75  2020-05-15 16:11:00      158.0\n",
      "76    76  2020-05-15 20:28:00      127.0\n",
      "77    77  2020-05-15 21:50:00      169.0\n",
      "78    78  0107-05-16 00:00:00      222.0\n",
      "79    79  2020-05-16 12:59:00       98.0\n",
      "80    80  2020-05-16 17:13:00      146.0\n",
      "81    81  2020-05-16 20:20:00      114.0\n",
      "82    82  2020-05-16 22:48:00      228.0\n",
      "83    83  2020-05-17 01:36:00      155.0\n",
      "84    84  2020-05-17 12:12:00      150.0\n",
      "85    85  2020-05-17 14:44:00      175.0\n",
      "86    86  2020-05-17 19:50:00      171.0\n",
      "87    87  2020-05-18 00:05:00      154.0\n",
      "88    88  2020-05-18 11:27:00      143.0\n",
      "89    89  2020-05-18 16:26:00       99.0\n",
      "90    90  2020-05-18 20:23:00      143.0\n",
      "91    91  2020-05-18 23:26:00      218.0\n",
      "92    92  2020-05-19 07:20:00      104.0\n",
      "93    93  2020-05-19 12:49:00      157.0\n",
      "94    94  2020-05-19 15:16:00       84.0\n",
      "95    95  2020-05-19 18:45:00       90.0\n",
      "96    96  2020-05-19 21:22:00      183.0\n",
      "97    97  2020-05-20 10:37:00      121.0\n",
      "98    98  2020-05-20 15:58:00       95.0\n",
      "99    99  2020-05-20 21:13:00      112.0\n",
      "100  100  2020-05-21 00:28:00      129.0\n",
      "101  101  2020-05-21 10:17:00       82.0\n",
      "102  102  2020-05-21 14:12:00      109.0\n",
      "103  103  2020-05-21 20:38:00      106.0\n",
      "104  104  2020-05-22 10:15:00       59.0\n",
      "105  105  2020-05-22 10:16:00       69.0\n",
      "106  106  2020-05-22 10:24:00       62.0\n",
      "107  107  2020-05-22 14:42:00       90.0\n",
      "108  108  2020-05-22 21:13:00       83.0\n",
      "109  109  2020-05-23 01:22:00      221.0\n",
      "110  110  2020-05-23 14:17:00      151.0\n",
      "111  111  2020-05-23 23:16:00      185.0\n",
      "112  112  2020-05-24 04:31:00      126.0\n",
      "113  113  2020-05-24 14:01:00      159.0\n",
      "114  114  2020-05-24 14:02:00      168.0\n",
      "115  115  2020-05-24 23:32:00      151.0\n",
      "116  116  2020-05-25 11:36:00      113.0\n",
      "117  117  2020-05-25 18:51:00      132.0\n",
      "118  118  2020-05-26 10:44:00      100.0\n",
      "119  119  2020-05-26 23:39:00       95.0\n",
      "120  120  2020-05-27 16:23:00      109.0\n",
      "121  121  2020-05-28 01:19:00      126.0\n",
      "122  122  2020-05-28 12:46:00      106.0\n",
      "123  123  2020-05-29 03:10:00       95.0\n",
      "124  124  2020-06-05 11:07:21      123.0\n",
      "125  125  2020-06-05 11:20:23      100.0\n",
      "126  126  2020-06-05 11:21:34      147.0\n",
      "127  127  2020-06-05 11:39:38       90.0\n",
      "128  128  2020-06-05 11:53:07      140.0\n",
      "129  129  2020-06-05 12:00:08      122.0\n",
      "130  130  2020-06-07 14:50:04      123.0\n",
      "131  131  2020-05-29 18:57:00      114.0\n",
      "132  132  2020-05-30 02:34:00      153.0\n",
      "133  133  2020-05-30 09:34:00      101.0\n",
      "134  134  2020-05-30 13:59:00       83.0\n",
      "135  135  2020-05-30 19:52:00       86.0\n",
      "136  136  2020-05-31 00:30:00       94.0\n",
      "137  137  2020-05-31 13:09:00       69.0\n",
      "138  138  2020-05-31 17:52:00       75.0\n",
      "139  139  2020-05-31 10:28:00      139.0\n",
      "140  140  2020-06-01 10:11:00       91.0\n",
      "141  141  2020-06-01 15:58:00       88.0\n",
      "142  142  2020-06-01 20:24:00       84.0\n",
      "143  143  2020-06-02 01:48:00      165.0\n",
      "144  144  2020-06-02 13:07:00      115.0\n",
      "145  145  2020-06-02 20:44:00       92.0\n",
      "146  146  2020-06-02 23:35:00      142.0\n",
      "147  147  2020-06-03 10:14:00       95.0\n",
      "148  148  2020-06-03 13:23:00       92.0\n",
      "149  149  2020-06-04 11:40:00       90.0\n",
      "150  150  2020-06-04 02:47:00      102.0\n",
      "151  151  2020-06-04 05:31:00       62.0\n",
      "152  152  2020-06-04 13:23:00      114.0\n",
      "153  153  2020-06-04 19:15:00       84.0\n",
      "154  154  2020-06-05 21:47:00       80.0\n",
      "155  155  2020-06-05 14:31:00       84.0\n",
      "156  156  2020-06-05 18:33:00      106.0\n",
      "157  157  2020-06-06 00:11:00      127.0\n",
      "158  158  2020-06-06 14:45:00       86.0\n",
      "159  159  2020-06-06 19:45:00       85.0\n",
      "160  160  2020-06-06 23:44:00      124.0\n",
      "161  161  2020-06-07 12:01:00      125.0\n",
      "162  162  2020-06-08 19:13:00       87.0\n",
      "163  163  2020-06-08 08:37:00       98.0\n",
      "164  164  2020-06-08 15:29:00      126.0\n",
      "165  165  2020-06-09 01:54:00      103.0\n",
      "166  166  2020-06-09 11:14:00      112.0\n",
      "167  167  2020-06-10 01:41:00      130.0\n",
      "168  168  2020-06-10 08:48:00       71.0\n",
      "169  169  2020-06-10 18:28:00      109.0\n",
      "170  170  2020-06-10 23:51:00       96.0\n",
      "171  171  2020-06-11 15:32:00      106.0\n",
      "172  172  2020-06-11 21:49:00      117.0\n",
      "173  173  2020-06-12 00:18:00       88.0\n",
      "174  174  2020-06-12 23:47:00      130.0\n",
      "175  175  2020-06-13 11:49:00       91.0\n",
      "176  176  2020-06-13 19:41:00      106.0\n",
      "177  177  2020-06-13 23:52:00      145.0\n",
      "178  178  2020-06-14 09:11:00       90.0\n",
      "179  179  2020-06-14 19:59:00      106.0\n",
      "180  180  2020-06-15 11:29:00       99.0\n",
      "181  181  2020-06-15 22:59:00      132.0\n",
      "182  182  2020-06-16 19:46:00       71.0\n",
      "183  183  2020-06-16 17:03:00       91.0\n",
      "184  184  2020-06-16 23:13:00      104.0\n",
      "185  185  2020-06-17 07:23:00       89.0\n",
      "186  186  2020-06-18 23:45:00      128.0\n",
      "187  187  2020-06-19 08:14:00       75.0\n",
      "188  188  2020-06-19 13:06:00       94.0\n",
      "189  189  2020-06-19 13:06:00       94.0\n",
      "190  190  2020-06-19 21:12:00      101.0\n",
      "191  191  2020-06-21 00:57:00      114.0\n",
      "192  192  2020-06-22 09:13:00       70.0\n",
      "193  193  2020-06-22 23:21:00      107.0\n",
      "194  194  2020-06-23 10:31:00      118.0\n",
      "195  195  2020-06-23 23:02:00       84.0\n",
      "196  196  2020-06-24 07:08:00       84.0\n",
      "197  197  2020-06-24 23:01:00      101.0\n",
      "198  198  2020-06-25 23:00:00      107.0\n",
      "199  199  2020-06-27 00:30:00      101.0\n",
      "200  200  2020-06-28 01:13:00       64.0\n",
      "201  201  2020-06-28 19:41:00       97.0\n",
      "202  202  2020-06-29 08:34:00       93.0\n",
      "203  203  0202-06-22 23:33:00      142.0\n",
      "204  204  2020-06-30 10:34:00       91.0\n",
      "205  205  2020-07-01 03:25:00       98.0\n",
      "206  206  2020-07-01 07:12:00      104.0\n",
      "207  207  2020-07-02 23:56:00       99.0\n",
      "208  208  2020-07-03 18:26:00      113.0\n",
      "209  209  2020-07-03 22:36:00      185.0\n",
      "210  210  2020-07-04 00:53:00       54.0\n",
      "211  211  2020-07-04 09:39:00      123.0\n",
      "212  212  2020-07-04 22:55:00      110.0\n",
      "213  213  2020-07-05 06:52:00       96.0\n"
     ]
    }
   ],
   "source": [
    "print(test_df)"
   ]
  },
  {
   "cell_type": "code",
   "execution_count": null,
   "metadata": {},
   "outputs": [],
   "source": [
    "test_df"
   ]
  },
  {
   "cell_type": "code",
   "execution_count": 12,
   "metadata": {},
   "outputs": [
    {
     "data": {
      "image/png": "[encoded data removed]",
      "text/plain": [
       "<Figure size 432x288 with 1 Axes>"
      ]
     },
     "metadata": {
      "needs_background": "light"
     },
     "output_type": "display_data"
    }
   ],
   "source": [
    "import seaborn as sns\n",
    "import matplotlib.pyplot as plt\n",
    "\n",
    "sns.distplot(test_df['bs_measure'], vertical=True)\n",
    "plt.show()"
   ]
  },
  {
   "cell_type": "code",
   "execution_count": null,
   "metadata": {},
   "outputs": [],
   "source": []
  },
  {
   "cell_type": "code",
   "execution_count": 23,
   "metadata": {},
   "outputs": [
    {
     "data": {
      "text/plain": [
       "([0, 1, 2, 3, 4, 5, 6, 7, 8, 9, 10, 11, 12, 13],\n",
       " <a list of 14 Text xticklabel objects>)"
      ]
     },
     "execution_count": 23,
     "metadata": {},
     "output_type": "execute_result"
    },
    {
     "data": {
      "image/png": "[encoded data removed]",
      "text/plain": [
       "<Figure size 432x288 with 1 Axes>"
      ]
     },
     "metadata": {
      "needs_background": "light"
     },
     "output_type": "display_data"
    }
   ],
   "source": [
    "a = test_df[-14:]\n",
    "plt.plot(a['datetime'], a['bs_measure'])\n",
    "plt.xticks(rotation=90)"
   ]
  },
  {
   "cell_type": "code",
   "execution_count": 29,
   "metadata": {},
   "outputs": [
    {
     "ename": "TypeError",
     "evalue": "'int' object is not callable",
     "output_type": "error",
     "traceback": [
      "\u001b[0;31m---------------------------------------------------------------------------\u001b[0m",
      "\u001b[0;31mTypeError\u001b[0m                                 Traceback (most recent call last)",
      "\u001b[0;32m<ipython-input-29-6496940f7ae6>\u001b[0m in \u001b[0;36m<module>\u001b[0;34m\u001b[0m\n\u001b[0;32m----> 1\u001b[0;31m \u001b[0mpd\u001b[0m\u001b[0;34m.\u001b[0m\u001b[0mTimestamp\u001b[0m\u001b[0;34m(\u001b[0m\u001b[0mtest_df\u001b[0m\u001b[0;34m[\u001b[0m\u001b[0;34m'datetime'\u001b[0m\u001b[0;34m]\u001b[0m\u001b[0;34m[\u001b[0m\u001b[0;36m0\u001b[0m\u001b[0;34m]\u001b[0m\u001b[0;34m)\u001b[0m\u001b[0;34m.\u001b[0m\u001b[0mdayofweek\u001b[0m\u001b[0;34m(\u001b[0m\u001b[0;34m)\u001b[0m\u001b[0;34m\u001b[0m\u001b[0;34m\u001b[0m\u001b[0m\n\u001b[0m",
      "\u001b[0;31mTypeError\u001b[0m: 'int' object is not callable"
     ]
    }
   ],
   "source": [
    "pd.Timestamp(test_df['datetime'][0]).dayofweek()"
   ]
  },
  {
   "cell_type": "code",
   "execution_count": 35,
   "metadata": {},
   "outputs": [
    {
     "ename": "OutOfBoundsDatetime",
     "evalue": "Out of bounds nanosecond timestamp: 33-05-14 23:26:00",
     "output_type": "error",
     "traceback": [
      "\u001b[0;31m---------------------------------------------------------------------------\u001b[0m",
      "\u001b[0;31mTypeError\u001b[0m                                 Traceback (most recent call last)",
      "\u001b[0;32m~/anaconda3/lib/python3.7/site-packages/pandas/core/arrays/datetimes.py\u001b[0m in \u001b[0;36mobjects_to_datetime64ns\u001b[0;34m(data, dayfirst, yearfirst, utc, errors, require_iso8601, allow_object)\u001b[0m\n\u001b[1;32m   1857\u001b[0m         \u001b[0;32mtry\u001b[0m\u001b[0;34m:\u001b[0m\u001b[0;34m\u001b[0m\u001b[0;34m\u001b[0m\u001b[0m\n\u001b[0;32m-> 1858\u001b[0;31m             \u001b[0mvalues\u001b[0m\u001b[0;34m,\u001b[0m \u001b[0mtz_parsed\u001b[0m \u001b[0;34m=\u001b[0m \u001b[0mconversion\u001b[0m\u001b[0;34m.\u001b[0m\u001b[0mdatetime_to_datetime64\u001b[0m\u001b[0;34m(\u001b[0m\u001b[0mdata\u001b[0m\u001b[0;34m)\u001b[0m\u001b[0;34m\u001b[0m\u001b[0;34m\u001b[0m\u001b[0m\n\u001b[0m\u001b[1;32m   1859\u001b[0m             \u001b[0;31m# If tzaware, these values represent unix timestamps, so we\u001b[0m\u001b[0;34m\u001b[0m\u001b[0;34m\u001b[0m\u001b[0;34m\u001b[0m\u001b[0m\n",
      "\u001b[0;32mpandas/_libs/tslibs/conversion.pyx\u001b[0m in \u001b[0;36mpandas._libs.tslibs.conversion.datetime_to_datetime64\u001b[0;34m()\u001b[0m\n",
      "\u001b[0;31mTypeError\u001b[0m: Unrecognized value type: <class 'str'>",
      "\nDuring handling of the above exception, another exception occurred:\n",
      "\u001b[0;31mOutOfBoundsDatetime\u001b[0m                       Traceback (most recent call last)",
      "\u001b[0;32m<ipython-input-35-abee34bda723>\u001b[0m in \u001b[0;36m<module>\u001b[0;34m\u001b[0m\n\u001b[0;32m----> 1\u001b[0;31m \u001b[0mtest_df\u001b[0m\u001b[0;34m[\u001b[0m\u001b[0;34m'datetime_conv'\u001b[0m\u001b[0;34m]\u001b[0m \u001b[0;34m=\u001b[0m \u001b[0mpd\u001b[0m\u001b[0;34m.\u001b[0m\u001b[0mto_datetime\u001b[0m\u001b[0;34m(\u001b[0m\u001b[0mtest_df\u001b[0m\u001b[0;34m[\u001b[0m\u001b[0;34m'datetime'\u001b[0m\u001b[0;34m]\u001b[0m\u001b[0;34m)\u001b[0m\u001b[0;34m\u001b[0m\u001b[0;34m\u001b[0m\u001b[0m\n\u001b[0m",
      "\u001b[0;32m~/anaconda3/lib/python3.7/site-packages/pandas/core/tools/datetimes.py\u001b[0m in \u001b[0;36mto_datetime\u001b[0;34m(arg, errors, dayfirst, yearfirst, utc, format, exact, unit, infer_datetime_format, origin, cache)\u001b[0m\n\u001b[1;32m    726\u001b[0m             \u001b[0mresult\u001b[0m \u001b[0;34m=\u001b[0m \u001b[0marg\u001b[0m\u001b[0;34m.\u001b[0m\u001b[0mmap\u001b[0m\u001b[0;34m(\u001b[0m\u001b[0mcache_array\u001b[0m\u001b[0;34m)\u001b[0m\u001b[0;34m\u001b[0m\u001b[0;34m\u001b[0m\u001b[0m\n\u001b[1;32m    727\u001b[0m         \u001b[0;32melse\u001b[0m\u001b[0;34m:\u001b[0m\u001b[0;34m\u001b[0m\u001b[0;34m\u001b[0m\u001b[0m\n\u001b[0;32m--> 728\u001b[0;31m             \u001b[0mvalues\u001b[0m \u001b[0;34m=\u001b[0m \u001b[0mconvert_listlike\u001b[0m\u001b[0;34m(\u001b[0m\u001b[0marg\u001b[0m\u001b[0;34m.\u001b[0m\u001b[0m_values\u001b[0m\u001b[0;34m,\u001b[0m \u001b[0mformat\u001b[0m\u001b[0;34m)\u001b[0m\u001b[0;34m\u001b[0m\u001b[0;34m\u001b[0m\u001b[0m\n\u001b[0m\u001b[1;32m    729\u001b[0m             \u001b[0mresult\u001b[0m \u001b[0;34m=\u001b[0m \u001b[0marg\u001b[0m\u001b[0;34m.\u001b[0m\u001b[0m_constructor\u001b[0m\u001b[0;34m(\u001b[0m\u001b[0mvalues\u001b[0m\u001b[0;34m,\u001b[0m \u001b[0mindex\u001b[0m\u001b[0;34m=\u001b[0m\u001b[0marg\u001b[0m\u001b[0;34m.\u001b[0m\u001b[0mindex\u001b[0m\u001b[0;34m,\u001b[0m \u001b[0mname\u001b[0m\u001b[0;34m=\u001b[0m\u001b[0marg\u001b[0m\u001b[0;34m.\u001b[0m\u001b[0mname\u001b[0m\u001b[0;34m)\u001b[0m\u001b[0;34m\u001b[0m\u001b[0;34m\u001b[0m\u001b[0m\n\u001b[1;32m    730\u001b[0m     \u001b[0;32melif\u001b[0m \u001b[0misinstance\u001b[0m\u001b[0;34m(\u001b[0m\u001b[0marg\u001b[0m\u001b[0;34m,\u001b[0m \u001b[0;34m(\u001b[0m\u001b[0mABCDataFrame\u001b[0m\u001b[0;34m,\u001b[0m \u001b[0mabc\u001b[0m\u001b[0;34m.\u001b[0m\u001b[0mMutableMapping\u001b[0m\u001b[0;34m)\u001b[0m\u001b[0;34m)\u001b[0m\u001b[0;34m:\u001b[0m\u001b[0;34m\u001b[0m\u001b[0;34m\u001b[0m\u001b[0m\n",
      "\u001b[0;32m~/anaconda3/lib/python3.7/site-packages/pandas/core/tools/datetimes.py\u001b[0m in \u001b[0;36m_convert_listlike_datetimes\u001b[0;34m(arg, format, name, tz, unit, errors, infer_datetime_format, dayfirst, yearfirst, exact)\u001b[0m\n\u001b[1;32m    445\u001b[0m             \u001b[0merrors\u001b[0m\u001b[0;34m=\u001b[0m\u001b[0merrors\u001b[0m\u001b[0;34m,\u001b[0m\u001b[0;34m\u001b[0m\u001b[0;34m\u001b[0m\u001b[0m\n\u001b[1;32m    446\u001b[0m             \u001b[0mrequire_iso8601\u001b[0m\u001b[0;34m=\u001b[0m\u001b[0mrequire_iso8601\u001b[0m\u001b[0;34m,\u001b[0m\u001b[0;34m\u001b[0m\u001b[0;34m\u001b[0m\u001b[0m\n\u001b[0;32m--> 447\u001b[0;31m             \u001b[0mallow_object\u001b[0m\u001b[0;34m=\u001b[0m\u001b[0;32mTrue\u001b[0m\u001b[0;34m,\u001b[0m\u001b[0;34m\u001b[0m\u001b[0;34m\u001b[0m\u001b[0m\n\u001b[0m\u001b[1;32m    448\u001b[0m         )\n\u001b[1;32m    449\u001b[0m \u001b[0;34m\u001b[0m\u001b[0m\n",
      "\u001b[0;32m~/anaconda3/lib/python3.7/site-packages/pandas/core/arrays/datetimes.py\u001b[0m in \u001b[0;36mobjects_to_datetime64ns\u001b[0;34m(data, dayfirst, yearfirst, utc, errors, require_iso8601, allow_object)\u001b[0m\n\u001b[1;32m   1861\u001b[0m             \u001b[0;32mreturn\u001b[0m \u001b[0mvalues\u001b[0m\u001b[0;34m.\u001b[0m\u001b[0mview\u001b[0m\u001b[0;34m(\u001b[0m\u001b[0;34m\"i8\"\u001b[0m\u001b[0;34m)\u001b[0m\u001b[0;34m,\u001b[0m \u001b[0mtz_parsed\u001b[0m\u001b[0;34m\u001b[0m\u001b[0;34m\u001b[0m\u001b[0m\n\u001b[1;32m   1862\u001b[0m         \u001b[0;32mexcept\u001b[0m \u001b[0;34m(\u001b[0m\u001b[0mValueError\u001b[0m\u001b[0;34m,\u001b[0m \u001b[0mTypeError\u001b[0m\u001b[0;34m)\u001b[0m\u001b[0;34m:\u001b[0m\u001b[0;34m\u001b[0m\u001b[0;34m\u001b[0m\u001b[0m\n\u001b[0;32m-> 1863\u001b[0;31m             \u001b[0;32mraise\u001b[0m \u001b[0me\u001b[0m\u001b[0;34m\u001b[0m\u001b[0;34m\u001b[0m\u001b[0m\n\u001b[0m\u001b[1;32m   1864\u001b[0m \u001b[0;34m\u001b[0m\u001b[0m\n\u001b[1;32m   1865\u001b[0m     \u001b[0;32mif\u001b[0m \u001b[0mtz_parsed\u001b[0m \u001b[0;32mis\u001b[0m \u001b[0;32mnot\u001b[0m \u001b[0;32mNone\u001b[0m\u001b[0;34m:\u001b[0m\u001b[0;34m\u001b[0m\u001b[0;34m\u001b[0m\u001b[0m\n",
      "\u001b[0;32m~/anaconda3/lib/python3.7/site-packages/pandas/core/arrays/datetimes.py\u001b[0m in \u001b[0;36mobjects_to_datetime64ns\u001b[0;34m(data, dayfirst, yearfirst, utc, errors, require_iso8601, allow_object)\u001b[0m\n\u001b[1;32m   1852\u001b[0m             \u001b[0mdayfirst\u001b[0m\u001b[0;34m=\u001b[0m\u001b[0mdayfirst\u001b[0m\u001b[0;34m,\u001b[0m\u001b[0;34m\u001b[0m\u001b[0;34m\u001b[0m\u001b[0m\n\u001b[1;32m   1853\u001b[0m             \u001b[0myearfirst\u001b[0m\u001b[0;34m=\u001b[0m\u001b[0myearfirst\u001b[0m\u001b[0;34m,\u001b[0m\u001b[0;34m\u001b[0m\u001b[0;34m\u001b[0m\u001b[0m\n\u001b[0;32m-> 1854\u001b[0;31m             \u001b[0mrequire_iso8601\u001b[0m\u001b[0;34m=\u001b[0m\u001b[0mrequire_iso8601\u001b[0m\u001b[0;34m,\u001b[0m\u001b[0;34m\u001b[0m\u001b[0;34m\u001b[0m\u001b[0m\n\u001b[0m\u001b[1;32m   1855\u001b[0m         )\n\u001b[1;32m   1856\u001b[0m     \u001b[0;32mexcept\u001b[0m \u001b[0mValueError\u001b[0m \u001b[0;32mas\u001b[0m \u001b[0me\u001b[0m\u001b[0;34m:\u001b[0m\u001b[0;34m\u001b[0m\u001b[0;34m\u001b[0m\u001b[0m\n",
      "\u001b[0;32mpandas/_libs/tslib.pyx\u001b[0m in \u001b[0;36mpandas._libs.tslib.array_to_datetime\u001b[0;34m()\u001b[0m\n",
      "\u001b[0;32mpandas/_libs/tslib.pyx\u001b[0m in \u001b[0;36mpandas._libs.tslib.array_to_datetime\u001b[0;34m()\u001b[0m\n",
      "\u001b[0;32mpandas/_libs/tslib.pyx\u001b[0m in \u001b[0;36mpandas._libs.tslib.array_to_datetime\u001b[0;34m()\u001b[0m\n",
      "\u001b[0;32mpandas/_libs/tslib.pyx\u001b[0m in \u001b[0;36mpandas._libs.tslib.array_to_datetime\u001b[0;34m()\u001b[0m\n",
      "\u001b[0;32mpandas/_libs/tslibs/np_datetime.pyx\u001b[0m in \u001b[0;36mpandas._libs.tslibs.np_datetime.check_dts_bounds\u001b[0;34m()\u001b[0m\n",
      "\u001b[0;31mOutOfBoundsDatetime\u001b[0m: Out of bounds nanosecond timestamp: 33-05-14 23:26:00"
     ]
    }
   ],
   "source": [
    "test_df['datetime_conv'] = pd.to_datetime(test_df['datetime']) "
   ]
  },
  {
   "cell_type": "code",
   "execution_count": null,
   "metadata": {},
   "outputs": [],
   "source": []
  }
 ],
 "metadata": {
  "kernelspec": {
   "display_name": "Python 3",
   "language": "python",
   "name": "python3"
  },
  "language_info": {
   "codemirror_mode": {
    "name": "ipython",
    "version": 3
   },
   "file_extension": ".py",
   "mimetype": "text/x-python",
   "name": "python",
   "nbconvert_exporter": "python",
   "pygments_lexer": "ipython3",
   "version": "3.7.6"
  }
 },
 "nbformat": 4,
 "nbformat_minor": 4
}
